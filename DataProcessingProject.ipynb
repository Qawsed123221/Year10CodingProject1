{
 "cells": [
  {
   "cell_type": "code",
   "execution_count": 12,
   "id": "98bff954-d2cc-4a87-beb5-7474c91834c6",
   "metadata": {},
   "outputs": [],
   "source": [
    "import matplotlib.pyplot as plt\n",
    "import numpy as np\n",
    "from library import *"
   ]
  },
  {
   "cell_type": "code",
   "execution_count": 13,
   "id": "1cc31594-857a-4d6e-9533-4bf7896889b0",
   "metadata": {},
   "outputs": [],
   "source": [
    "col = {\"Province\":0,\"Riding\":2, \"party\":3, \"votes\":6}\n",
    "data = loadList(\"RidingData.csv\")\n",
    "LiberalCount = 0\n",
    "NDPCount = 0\n",
    "ConservativeCount = 0\n",
    "BQCount = 0\n",
    "GreenCount = 0\n",
    "LiberalList = [\"Liberal\", LiberalCount]\n",
    "NDPList = [\"NDP\", NDPCount]\n",
    "ConservativeList = [\"Conservative\", ConservativeCount]\n",
    "BQList = [\"BQ\", BQCount]\n",
    "GreenList = [\"Green\", GreenCount]\n",
    "omittedListFinal = []\n",
    "greenOmittedList = []\n",
    "NDPOmittedList = []"
   ]
  },
  {
   "cell_type": "code",
   "execution_count": 20,
   "id": "2c82f96a-1bff-4810-bcc0-11c4237c0016",
   "metadata": {
    "tags": []
   },
   "outputs": [
    {
     "name": "stdout",
     "output_type": "stream",
     "text": [
      "[25, 29, 31, 38, 40, 42, 48, 50, 69, 73, 76, 80, 88, 91, 113, 123, 126, 127, 132, 135, 143, 144, 151, 159, 160, 161, 167, 179, 191, 193, 194, 197, 200, 208, 209, 211, 213, 223, 230, 231, 234, 236, 237, 238, 240, 245, 246, 247, 249, 250, 251, 252, 253, 254, 255, 256, 257, 258, 259, 260, 261, 262, 263, 264, 265, 266, 267, 268, 269, 270, 271, 273, 274, 275, 276, 278, 279, 280, 281, 282, 283, 284, 285, 286, 287, 288, 289, 290, 291, 292, 293, 296, 297, 298, 306, 307, 308, 309, 310, 314, 318, 319, 363, 367, 369, 376, 378, 380, 386, 388, 407, 411, 414, 418, 426, 429, 451, 461, 464, 465, 470, 473, 481, 482, 489, 497, 498, 499, 505, 517, 529, 531, 532, 535, 538, 546, 547, 549, 551, 561, 568, 569, 572, 574, 575, 576, 578, 583, 584, 585, 587, 588, 589, 590, 591, 592, 593, 594, 595, 596, 597, 598, 599, 600, 601, 602, 603, 604, 605, 606, 607, 608, 609, 611, 612, 613, 614, 616, 617, 618, 619, 620, 621, 622, 623, 624, 625, 626, 627, 628, 629, 630, 631, 634, 635, 636, 644, 645, 646, 647, 648, 652, 656, 657, 701, 705, 707, 714, 716, 718, 724, 726, 745, 749, 752, 756, 764, 767, 789, 799, 802, 803, 808, 811, 819, 820, 827, 835, 836, 837, 843, 855, 867, 869, 870, 873, 876, 884, 885, 887, 889, 899, 906, 907, 910, 912, 913, 914, 916, 921, 922, 923, 925, 926, 927, 928, 929, 930, 931, 932, 933, 934, 935, 936, 937, 938, 939, 940, 941, 942, 943, 944, 945, 946, 947, 949, 950, 951, 952, 954, 955, 956, 957, 958, 959, 960, 961, 962, 963, 964, 965, 966, 967, 968, 969, 972, 973, 974, 982, 983, 984, 985, 986, 990, 994, 995, 1039, 1043, 1045, 1052, 1054, 1056, 1062, 1064, 1083, 1087, 1090, 1094, 1102, 1105, 1127, 1137, 1140, 1141, 1146, 1149, 1157, 1158, 1165, 1173, 1174, 1175, 1181, 1193, 1205, 1207, 1208, 1211, 1214, 1222, 1223, 1225, 1227, 1237, 1244, 1245, 1248, 1250, 1251, 1252, 1254, 1259, 1260, 1261, 1263, 1264, 1265, 1266, 1267, 1268, 1269, 1270, 1271, 1272, 1273, 1274, 1275, 1276, 1277, 1278, 1279, 1280, 1281, 1282, 1283, 1284, 1285, 1287, 1288, 1289, 1290, 1292, 1293, 1294, 1295, 1296, 1297, 1298, 1299, 1300, 1301, 1302, 1303, 1304, 1305, 1306, 1307, 1310, 1311, 1312, 1320, 1321, 1322, 1323, 1324, 1328, 1332, 1333, 1377, 1381, 1383, 1390, 1392, 1394, 1400, 1402, 1421, 1425, 1428, 1432, 1440, 1443, 1465, 1475, 1478, 1479, 1484, 1487, 1495, 1496, 1503, 1511, 1512, 1513, 1519, 1531, 1543, 1545, 1546, 1549, 1552, 1560, 1561, 1563, 1565, 1575, 1582, 1583, 1586, 1588, 1589, 1590, 1592, 1597, 1598, 1599, 1601, 1602, 1603, 1604, 1605, 1606, 1607, 1608, 1609, 1610, 1611, 1612, 1613, 1614, 1615, 1616, 1617, 1618, 1619, 1620, 1621, 1622, 1623, 1625, 1626, 1627, 1628, 1630, 1631, 1632, 1633, 1634, 1635, 1636, 1637, 1638, 1639, 1640, 1641, 1642, 1643, 1644, 1645, 1648, 1649, 1650, 1658, 1659, 1660, 1661, 1662, 1666, 1670, 1671, 1715, 1719, 1721, 1728, 1730, 1732, 1738, 1740, 1759, 1763, 1766, 1770, 1778, 1781, 1803, 1813, 1816, 1817, 1822, 1825, 1833, 1834, 1841, 1849, 1850, 1851, 1857, 1869, 1881, 1883, 1884, 1887, 1890, 1898, 1899, 1901, 1903, 1913, 1920, 1921, 1924, 1926, 1927, 1928, 1930, 1935, 1936, 1937, 1939, 1940, 1941, 1942, 1943, 1944, 1945, 1946, 1947, 1948, 1949, 1950, 1951, 1952, 1953, 1954, 1955, 1956, 1957, 1958, 1959, 1960, 1961, 1963, 1964, 1965, 1966, 1968, 1969, 1970, 1971, 1972, 1973, 1974, 1975, 1976, 1977, 1978, 1979, 1980, 1981, 1982, 1983, 1986, 1987, 1988, 1996, 1997, 1998, 1999, 2000, 2004, 2008, 2009]\n"
     ]
    }
   ],
   "source": [
    "\n",
    "id = {}\n",
    "ConWithoutGreen = []\n",
    "LibWithoutGreen = []\n",
    "NDPWithoutGreen = []\n",
    "ConWithoutNDP = []\n",
    "LibWithoutNDP = []\n",
    "GreenWithoutNDP = []\n",
    "for i in range(1, len(data), 1):\n",
    "    if data[i][2] in id:\n",
    "        id[data[i][2]].append([data[i][3], data[i][6]])\n",
    "    else:\n",
    "        id[data[i][2]] = [[data[i][3], data[i][6]]]\n",
    "\n",
    "#Conservative, Liberal, NDP, Green\n",
    "\n",
    "\n",
    "for key in id:\n",
    "    for i in range(0, len(id[key]), 1):\n",
    "        if 'Liberal' in id[key][i][0]:\n",
    "            LiberalIdx = i\n",
    "        if 'Conservative' in id[key][i][0]:\n",
    "            ConservativeIdx = i\n",
    "        if 'Green' in id[key][i][0]:\n",
    "            GreenIdx = i\n",
    "        if 'NDP' in id[key][i][0]:\n",
    "            NDPIdx = i\n",
    "    greenOmittedList.append([int(id[key][ConservativeIdx][1]), int(id[key][LiberalIdx][1]), int(id[key][NDPIdx][1]) + int(id[key][GreenIdx][1])])\n",
    "for key in id:\n",
    "    for i in range(0, len(id[key]), 1):\n",
    "        if 'Liberal' in id[key][i][0]:\n",
    "            LiberalIdx = i\n",
    "        if 'Conservative' in id[key][i][0]:\n",
    "            ConservativeIdx = i\n",
    "        if 'Green' in id[key][i][0]:\n",
    "            GreenIdx = i\n",
    "        if 'NDP' in id[key][i][0]:\n",
    "            NDPIdx = i\n",
    "    NDPOmittedList.append([int(id[key][ConservativeIdx][1]), int(int(id[key][LiberalIdx][1]) + int(id[key][NDPIdx][1]) * 0.65), int(int(id[key][GreenIdx][1]) + int(id[key][NDPIdx][1]) * 0.35)])\n",
    "          \n",
    "#print(greenOmittedList)\n",
    "#print(NDPOmittedList)\n",
    "\n",
    "for n in range(0, len(greenOmittedList)):\n",
    "    if greenOmittedList[n][0] == max(greenOmittedList[n]):\n",
    "        ConWithoutGreen.append(n)\n",
    "    if greenOmittedList[n][1] == max(greenOmittedList[n]):\n",
    "        LibWithoutGreen.append(n)\n",
    "    if greenOmittedList[n][2] == max(greenOmittedList[n]):\n",
    "        NDPWithoutGreen.append(n)\n",
    "for n in range(0, len(NDPOmittedList)):\n",
    "    if NDPOmittedList[n][0] == max(NDPOmittedList[n]):\n",
    "        ConWithoutNDP.append(n)\n",
    "    if NDPOmittedList[n][1] == max(NDPOmittedList[n]):\n",
    "        LibWithoutNDP.append(n)\n",
    "    if NDPOmittedList[n][2] == max(NDPOmittedList[n]):\n",
    "        GreenWithoutNDP.append(n)\n",
    "        \n",
    "greenOmittedList.clear\n",
    "\n",
    "print(ConWithoutNDP)\n",
    "        \n"
   ]
  },
  {
   "cell_type": "code",
   "execution_count": null,
   "id": "183201da-a14b-4ae1-8dea-6c1e150350d3",
   "metadata": {},
   "outputs": [],
   "source": []
  },
  {
   "cell_type": "code",
   "execution_count": null,
   "id": "73d81811-7217-45ed-b2ac-60b4c452e7ee",
   "metadata": {},
   "outputs": [],
   "source": []
  }
 ],
 "metadata": {
  "kernelspec": {
   "display_name": "Python 3 (ipykernel)",
   "language": "python",
   "name": "python3"
  },
  "language_info": {
   "codemirror_mode": {
    "name": "ipython",
    "version": 3
   },
   "file_extension": ".py",
   "mimetype": "text/x-python",
   "name": "python",
   "nbconvert_exporter": "python",
   "pygments_lexer": "ipython3",
   "version": "3.9.7"
  }
 },
 "nbformat": 4,
 "nbformat_minor": 5
}
