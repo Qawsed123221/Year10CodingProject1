{
 "cells": [
  {
   "cell_type": "code",
   "execution_count": 2,
   "id": "457f1e57-13e6-47fe-80a9-0555168e16a1",
   "metadata": {},
   "outputs": [],
   "source": [
    "import matplotlib.pyplot as plt\n",
    "import numpy as np\n",
    "from library import *"
   ]
  },
  {
   "cell_type": "code",
   "execution_count": 46,
   "id": "540242b3-5828-429a-a37a-90c4faafa856",
   "metadata": {},
   "outputs": [],
   "source": [
    "col = {\"Province\":0,\"party\":12, \"fgm\":5, \"fga\":4}\n",
    "data = loadList(\"RidingWinners.csv\")\n",
    "LiberalCount = 0\n",
    "NDPCount = 0\n",
    "ConservativeCount = 0\n",
    "BQCount = 0\n",
    "GreenCount = 0\n",
    "LiberalList = [\"Liberal\", LiberalCount]\n",
    "NDPList = [\"NDP\", NDPCount]\n",
    "ConservativeList = [\"Conservative\", ConservativeCount]\n",
    "BQList = [\"BQ\", BQCount]\n",
    "GreenList = [\"Green\", GreenCount]\n",
    "RidingCountList = []\n",
    "LibProv = [0,0,0,0,0,0,0,0,0,0,0,0,0]\n",
    "ConProv = [0,0,0,0,0,0,0,0,0,0,0,0,0]\n",
    "NDPProv = [0,0,0,0,0,0,0,0,0,0,0,0,0]\n",
    "BQProv = [0,0,0,0,0,0,0,0,0,0,0,0,0]\n",
    "Green = [0,0,0,0,0,0,0,0,0,0,0,0,0]\n"
   ]
  },
  {
   "cell_type": "code",
   "execution_count": 47,
   "id": "5bb2d977-c225-4c19-be24-bd1683b31ed5",
   "metadata": {},
   "outputs": [],
   "source": [
    "for n in range (0,len(data)):\n",
    "    if data[n][col[\"party\"]][-1] == 'l':\n",
    "        LiberalCount += 1\n",
    "        LiberalList[1] = LiberalCount\n",
    "    elif data[n][col[\"party\"]][-1] == 'e':\n",
    "        NDPCount += 1\n",
    "        NDPList[1] = NDPCount\n",
    "    elif data[n][col[\"party\"]][-1] == 'r':\n",
    "        ConservativeCount += 1\n",
    "        ConservativeList[1] = ConservativeCount\n",
    "    elif data[n][col[\"party\"]][-1] == 's':\n",
    "        BQCount += 1\n",
    "        BQList[1] = BQCount\n",
    "    else:\n",
    "        GreenCount += 1\n",
    "        GreenList[1] = GreenCount"
   ]
  },
  {
   "cell_type": "code",
   "execution_count": 48,
   "id": "bdd3a906-7235-44eb-8a13-28cb22d98838",
   "metadata": {},
   "outputs": [],
   "source": [
    "RidingCountList = [LiberalList, ConservativeList, NDPList, BQList, GreenList ]\n"
   ]
  },
  {
   "cell_type": "code",
   "execution_count": 49,
   "id": "7618d3b0-2dc9-4be0-8c79-0d555de7451c",
   "metadata": {},
   "outputs": [
    {
     "data": {
      "image/png": "[encoded data removed]",
      "text/plain": [
       "<Figure size 432x288 with 1 Axes>"
      ]
     },
     "metadata": {},
     "output_type": "display_data"
    }
   ],
   "source": [
    "Ridings = np.array([LiberalCount, ConservativeCount, NDPCount, BQCount, GreenCount])\n",
    "PartyLabels = [\"Liberal\", \"Conservative\", \"NDP\", \"BQ\", \"Green\"]\n",
    "PartyColours = [\"r\", \"b\", \"Orange\", \"c\", \"g\"]\n",
    "plt.pie(Ridings, labels = PartyLabels, colors = PartyColours, startangle = 90)\n",
    "plt.title(\"Parties on a National Level\")\n",
    "plt.show() "
   ]
  },
  {
   "cell_type": "code",
   "execution_count": 50,
   "id": "0f29fceb-9f6f-42b0-ba04-50f972b893dd",
   "metadata": {
    "jupyter": {
     "source_hidden": true
    },
    "tags": []
   },
   "outputs": [
    {
     "name": "stdout",
     "output_type": "stream",
     "text": [
      "[6, 4, 10, 6, 35, 79, 4, 0, 0, 11, 1, 1, 0]\n",
      "[0, 0, 1, 3, 10, 36, 7, 14, 33, 17, 0, 0, 0]\n",
      "[1, 0, 0, 0, 1, 6, 3, 0, 1, 11, 0, 0, 1]\n"
     ]
    }
   ],
   "source": [
    "LibProv.clear\n",
    "ConProv.clear\n",
    "NDPProv.clear\n",
    "BQProv.clear\n",
    "GreenProv.clear\n",
    "for n in range (0,len(data)):\n",
    "    if data[n][col[\"party\"]][-1] == 'l':\n",
    "        if data[n][col[\"Province\"]] == \"Newfoundland and Labrador/Terre-Neuve-et-Labrador\":\n",
    "            LibProv[0] += 1\n",
    "        elif data[n][col[\"Province\"]] == \"Prince Edward Island/Île-du-Prince-Édouard\":\n",
    "            LibProv[1] += 1\n",
    "        elif data[n][col[\"Province\"]] == \"Nova Scotia/Nouvelle-Écosse\":\n",
    "            LibProv[2] += 1\n",
    "        elif data[n][col[\"Province\"]] == \"New Brunswick/Nouveau-Brunswick\":\n",
    "            LibProv[3] += 1\n",
    "        elif data[n][col[\"Province\"]] == \"Quebec/Québec\":\n",
    "            LibProv[4] += 1\n",
    "        elif data[n][col[\"Province\"]] == \"Ontario\":\n",
    "            LibProv[5] += 1\n",
    "        elif data[n][col[\"Province\"]] == \"Manitoba\":\n",
    "            LibProv[6] += 1\n",
    "        elif data[n][col[\"Province\"]] == \"Saskatchewan\":\n",
    "            LibProv[7] += 1\n",
    "        elif data[n][col[\"Province\"]] == \"Alberta\":\n",
    "            LibProv[8] += 1\n",
    "        elif data[n][col[\"Province\"]] == \"British Columbia/Colombie-Britannique\":\n",
    "            LibProv[9] += 1\n",
    "        elif data[n][col[\"Province\"]] == \"Yukon\":\n",
    "            LibProv[10] += 1\n",
    "        elif data[n][col[\"Province\"]] == \"Northwest Territories/Territoires du Nord-Ouest\":\n",
    "            LibProv[11] += 1\n",
    "        elif data[n][col[\"Province\"]] == \"Nunavut\":\n",
    "            LibProv[12] += 1  \n",
    "    elif data[n][col[\"party\"]][-1] == 'e':\n",
    "        if data[n][col[\"Province\"]] == \"Newfoundland and Labrador/Terre-Neuve-et-Labrador\":\n",
    "            NDPProv[0] += 1\n",
    "        elif data[n][col[\"Province\"]] == \"Prince Edward Island/Île-du-Prince-Édouard\":\n",
    "            NDPProv[1] += 1\n",
    "        elif data[n][col[\"Province\"]] == \"Nova Scotia/Nouvelle-Écosse\":\n",
    "            NDPProv[2] += 1\n",
    "        elif data[n][col[\"Province\"]] == \"New Brunswick/Nouveau-Brunswick\":\n",
    "            NDPProv[3] += 1\n",
    "        elif data[n][col[\"Province\"]] == \"Quebec/Québec\":\n",
    "            NDPProv[4] += 1\n",
    "        elif data[n][col[\"Province\"]] == \"Ontario\":\n",
    "            NDPProv[5] += 1\n",
    "        elif data[n][col[\"Province\"]] == \"Manitoba\":\n",
    "            NDPProv[6] += 1\n",
    "        elif data[n][col[\"Province\"]] == \"Saskatchewan\":\n",
    "            NDPProv[7] += 1\n",
    "        elif data[n][col[\"Province\"]] == \"Alberta\":\n",
    "            NDPProv[8] += 1\n",
    "        elif data[n][col[\"Province\"]] == \"British Columbia/Colombie-Britannique\":\n",
    "            NDPProv[9] += 1\n",
    "        elif data[n][col[\"Province\"]] == \"Yukon\":\n",
    "            NDPProv[10] += 1\n",
    "        elif data[n][col[\"Province\"]] == \"Northwest Territories/Territoires du Nord-Ouest\":\n",
    "            NDPProv[11] += 1\n",
    "        elif data[n][col[\"Province\"]] == \"Nunavut\":\n",
    "            NDPProv[12] += 1  \n",
    "    elif data[n][col[\"party\"]][-1] == 'r':\n",
    "        if data[n][col[\"Province\"]] == \"Newfoundland and Labrador/Terre-Neuve-et-Labrador\":\n",
    "            ConProv[0] += 1\n",
    "        elif data[n][col[\"Province\"]] == \"Prince Edward Island/Île-du-Prince-Édouard\":\n",
    "            ConProv[1] += 1\n",
    "        elif data[n][col[\"Province\"]] == \"Nova Scotia/Nouvelle-Écosse\":\n",
    "            ConProv[2] += 1\n",
    "        elif data[n][col[\"Province\"]] == \"New Brunswick/Nouveau-Brunswick\":\n",
    "            ConProv[3] += 1\n",
    "        elif data[n][col[\"Province\"]] == \"Quebec/Québec\":\n",
    "            ConProv[4] += 1\n",
    "        elif data[n][col[\"Province\"]] == \"Ontario\":\n",
    "            ConProv[5] += 1\n",
    "        elif data[n][col[\"Province\"]] == \"Manitoba\":\n",
    "            ConProv[6] += 1\n",
    "        elif data[n][col[\"Province\"]] == \"Saskatchewan\":\n",
    "            ConProv[7] += 1\n",
    "        elif data[n][col[\"Province\"]] == \"Alberta\":\n",
    "            ConProv[8] += 1\n",
    "        elif data[n][col[\"Province\"]] == \"British Columbia/Colombie-Britannique\":\n",
    "            ConProv[9] += 1\n",
    "        elif data[n][col[\"Province\"]] == \"Yukon\":\n",
    "            ConProv[10] += 1\n",
    "        elif data[n][col[\"Province\"]] == \"Northwest Territories/Territoires du Nord-Ouest\":\n",
    "            ConProv[11] += 1\n",
    "        elif data[n][col[\"Province\"]] == \"Nunavut\":\n",
    "            ConProv[12] += 1  \n",
    "    elif data[n][col[\"party\"]][-1] == 's':\n",
    "        if data[n][col[\"Province\"]] == \"Newfoundland and Labrador/Terre-Neuve-et-Labrador\":\n",
    "            BQProv[0] += 1\n",
    "        elif data[n][col[\"Province\"]] == \"Prince Edward Island/Île-du-Prince-Édouard\":\n",
    "            BQProv[1] += 1\n",
    "        elif data[n][col[\"Province\"]] == \"Nova Scotia/Nouvelle-Écosse\":\n",
    "            BQProv[2] += 1\n",
    "        elif data[n][col[\"Province\"]] == \"New Brunswick/Nouveau-Brunswick\":\n",
    "            BQProv[3] += 1\n",
    "        elif data[n][col[\"Province\"]] == \"Quebec/Québec\":\n",
    "            BQProv[4] += 1\n",
    "        elif data[n][col[\"Province\"]] == \"Ontario\":\n",
    "            BQProv[5] += 1\n",
    "        elif data[n][col[\"Province\"]] == \"Manitoba\":\n",
    "            BQProv[6] += 1\n",
    "        elif data[n][col[\"Province\"]] == \"Saskatchewan\":\n",
    "            BQProv[7] += 1\n",
    "        elif data[n][col[\"Province\"]] == \"Alberta\":\n",
    "            BQProv[8] += 1\n",
    "        elif data[n][col[\"Province\"]] == \"British Columbia/Colombie-Britannique\":\n",
    "            BQProv[9] += 1\n",
    "        elif data[n][col[\"Province\"]] == \"Yukon\":\n",
    "            BQProv[10] += 1\n",
    "        elif data[n][col[\"Province\"]] == \"Northwest Territories/Territoires du Nord-Ouest\":\n",
    "            BQProv[11] += 1\n",
    "        elif data[n][col[\"Province\"]] == \"Nunavut\":\n",
    "            BQProv[12] += 1  \n",
    "    elif data[n][col[\"party\"]][-1] == 't':\n",
    "        if data[n][col[\"Province\"]] == \"Newfoundland and Labrador/Terre-Neuve-et-Labrador\":\n",
    "            GreenProv[0] += 1\n",
    "        elif data[n][col[\"Province\"]] == \"Prince Edward Island/Île-du-Prince-Édouard\":\n",
    "            GreenProv[1] += 1\n",
    "        elif data[n][col[\"Province\"]] == \"Nova Scotia/Nouvelle-Écosse\":\n",
    "            GreenProv[2] += 1\n",
    "        elif data[n][col[\"Province\"]] == \"New Brunswick/Nouveau-Brunswick\":\n",
    "            GreenProv[3] += 1\n",
    "        elif data[n][col[\"Province\"]] == \"Quebec/Québec\":\n",
    "            GreenProv[4] += 1\n",
    "        elif data[n][col[\"Province\"]] == \"Ontario\":\n",
    "            GreenProv[5] += 1\n",
    "        elif data[n][col[\"Province\"]] == \"Manitoba\":\n",
    "            GreenProv[6] += 1\n",
    "        elif data[n][col[\"Province\"]] == \"Saskatchewan\":\n",
    "            GreenProv[7] += 1\n",
    "        elif data[n][col[\"Province\"]] == \"Alberta\":\n",
    "            GreenProv[8] += 1\n",
    "        elif data[n][col[\"Province\"]] == \"British Columbia/Colombie-Britannique\":\n",
    "            GreenProv[9] += 1\n",
    "        elif data[n][col[\"Province\"]] == \"Yukon\":\n",
    "            GreenProv[10] += 1\n",
    "        elif data[n][col[\"Province\"]] == \"Northwest Territories/Territoires du Nord-Ouest\":\n",
    "            GreenProv[11] += 1\n",
    "        elif data[n][col[\"Province\"]] == \"Nunavut\":\n",
    "            GreenProv[12] += 1  \n",
    "print(LibProv)\n",
    "print(ConProv)\n",
    "print(NDPProv)"
   ]
  },
  {
   "cell_type": "code",
   "execution_count": 51,
   "id": "0018df86-a15f-44e1-a7f1-d3de37504b86",
   "metadata": {},
   "outputs": [
    {
     "data": {
      "image/png": "[encoded data removed]",
      "text/plain": [
       "<Figure size 432x288 with 1 Axes>"
      ]
     },
     "metadata": {
      "needs_background": "light"
     },
     "output_type": "display_data"
    }
   ],
   "source": [
    "Provinces = [\"NF&L\", \"PEI\", \"NS\", \"NB\", \"QU\", \"ON\", \"MN\", \"SK\", \"AB\", \"BC\", \"YK\", \"NWT\", \"NUN\"]\n",
    "Lib = np.array(LibProv)\n",
    "Con = np.array(ConProv)\n",
    "NDP = np.array(NDPProv)\n",
    "BQ = np.array(BQProv)\n",
    "Green = np.array(GreenProv)\n",
    "  \n",
    "# plot bars in stack manner\n",
    "plt.bar(Provinces, Lib, color='r')\n",
    "plt.bar(Provinces, Con, bottom=Lib, color='b')\n",
    "plt.bar(Provinces, NDP, bottom=Lib+Con, color='orange')\n",
    "plt.bar(Provinces, BQ, bottom=Lib+Con+NDP, color='cyan')\n",
    "plt.bar(Provinces, Green, bottom=Lib+Con+NDP+BQ, color='g')\n",
    "\n",
    "plt.xlabel(\"Province\")\n",
    "plt.ylabel(\"Number of ridings won\")\n",
    "plt.legend([\"Liberal\", \"Conservative\", \"NDP\", \"BQ\", \"Green\"])\n",
    "plt.title(\"Performance of each party per province\")\n",
    "plt.show()\n",
    "\n"
   ]
  },
  {
   "cell_type": "code",
   "execution_count": null,
   "id": "c95ff152-f837-4331-811e-66fb547ba120",
   "metadata": {},
   "outputs": [],
   "source": []
  },
  {
   "cell_type": "code",
   "execution_count": null,
   "id": "f7e3d8ba-788a-4c97-8512-12d4c7086c66",
   "metadata": {},
   "outputs": [],
   "source": []
  },
  {
   "cell_type": "code",
   "execution_count": null,
   "id": "2aef1bc7-4ba3-4bbb-8e4a-fec744cc7818",
   "metadata": {},
   "outputs": [],
   "source": []
  }
 ],
 "metadata": {
  "kernelspec": {
   "display_name": "Python 3 (ipykernel)",
   "language": "python",
   "name": "python3"
  },
  "language_info": {
   "codemirror_mode": {
    "name": "ipython",
    "version": 3
   },
   "file_extension": ".py",
   "mimetype": "text/x-python",
   "name": "python",
   "nbconvert_exporter": "python",
   "pygments_lexer": "ipython3",
   "version": "3.9.7"
  }
 },
 "nbformat": 4,
 "nbformat_minor": 5
}
